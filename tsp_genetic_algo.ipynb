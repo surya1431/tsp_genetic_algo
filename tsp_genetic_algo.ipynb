{
  "cells": [
    {
      "metadata": {
        "trusted": true
      },
      "cell_type": "code",
      "source": "import numpy as np, random, operator, pandas as pd, matplotlib.pyplot as plt",
      "execution_count": 2,
      "outputs": []
    },
    {
      "metadata": {
        "trusted": true
      },
      "cell_type": "code",
      "source": "# Create a City class that will allow us to create and handle our cities.\n# These are simply our (x, y) coordinates.\nclass City:\n    def __init__(self, x, y):\n        self.x = x\n        self.y = y\n    \n    def distance(self, city):\n        xDis = abs(self.x - city.x)\n        yDis = abs(self.y - city.y)\n        distance = np.sqrt((xDis ** 2) + (yDis ** 2))\n        return distance\n    \n    def __repr__(self):\n        return \"(\" + str(self.x) + \",\" + str(self.y) + \")\"",
      "execution_count": 3,
      "outputs": []
    },
    {
      "metadata": {
        "trusted": true
      },
      "cell_type": "code",
      "source": "# Here we take fitness as the inverse of the route distance.\n# As we want to minimize route distance, so a larger fitness score is better.\nclass Fitness:\n    def __init__(self, route):\n        self.route = route\n        self.distance = 0\n        self.fitness= 0.0\n    \n    def routeDistance(self):\n        if self.distance ==0:\n            pathDistance = 0\n            for i in range(0, len(self.route)):\n                fromCity = self.route[i]\n                toCity = None\n                if i + 1 < len(self.route):\n                    toCity = self.route[i + 1]\n                else:\n                    toCity = self.route[0]\n                pathDistance += fromCity.distance(toCity)\n            self.distance = pathDistance\n        return self.distance\n    \n    def routeFitness(self):\n        if self.fitness == 0:\n            self.fitness = 1 / float(self.routeDistance())\n        return self.fitness",
      "execution_count": 4,
      "outputs": []
    },
    {
      "metadata": {
        "trusted": true
      },
      "cell_type": "code",
      "source": "# Create our initial population (aka first generation).\n#To create an individual, we randomly select the order in which we visit each city.\ndef createRoute(cityList):\n    route = random.sample(cityList, len(cityList))\n    return route",
      "execution_count": 5,
      "outputs": []
    },
    {
      "metadata": {
        "trusted": true
      },
      "cell_type": "code",
      "source": "#Create the population by looping.\ndef initialPopulation(popSize, cityList):\n    population = []\n\n    for i in range(0, popSize):\n        population.append(createRoute(cityList))\n    return population",
      "execution_count": 6,
      "outputs": []
    },
    {
      "metadata": {
        "trusted": true
      },
      "cell_type": "code",
      "source": "#Determine fitness\ndef rankRoutes(population):\n    fitnessResults = {}\n    for i in range(0,len(population)):\n        fitnessResults[i] = Fitness(population[i]).routeFitness()\n    return sorted(fitnessResults.items(), key = operator.itemgetter(1), reverse = True)",
      "execution_count": 7,
      "outputs": []
    },
    {
      "metadata": {
        "trusted": true
      },
      "cell_type": "code",
      "source": "# Selecting the mating pool.\n# Introducing Elitism i.e. the best performing individuals from \n# the population will automatically carry over to the next generation. \ndef selection(popRanked, eliteSize):\n    selectionResults = []\n    df = pd.DataFrame(np.array(popRanked), columns=[\"Index\",\"Fitness\"])\n    df['cum_sum'] = df.Fitness.cumsum()\n    df['cum_perc'] = 100*df.cum_sum/df.Fitness.sum()\n    \n    for i in range(0, eliteSize):\n        selectionResults.append(popRanked[i][0])\n    for i in range(0, len(popRanked) - eliteSize):\n        pick = 100*random.random()\n        for i in range(0, len(popRanked)):\n            if pick <= df.iat[i,3]:\n                selectionResults.append(popRanked[i][0])\n                break\n    return selectionResults",
      "execution_count": 8,
      "outputs": []
    },
    {
      "metadata": {
        "trusted": true
      },
      "cell_type": "code",
      "source": "# Creating the Mating Pool i.e extracting the selected individuals from our population.\ndef matingPool(population, selectionResults):\n    matingpool = []\n    for i in range(0, len(selectionResults)):\n        index = selectionResults[i]\n        matingpool.append(population[index])\n    return matingpool",
      "execution_count": 9,
      "outputs": []
    },
    {
      "metadata": {
        "trusted": true
      },
      "cell_type": "code",
      "source": "# Using the concept of Ordered Crossover.\ndef breed(parent1, parent2):\n    child = []\n    childP1 = []\n    childP2 = []\n    \n    geneA = int(random.random() * len(parent1))\n    geneB = int(random.random() * len(parent1))\n    \n    startGene = min(geneA, geneB)\n    endGene = max(geneA, geneB)\n\n    for i in range(startGene, endGene):\n        childP1.append(parent1[i])\n        \n    childP2 = [item for item in parent2 if item not in childP1]\n\n    child = childP1 + childP2\n    return child",
      "execution_count": 10,
      "outputs": []
    },
    {
      "metadata": {
        "trusted": true
      },
      "cell_type": "code",
      "source": "# Here we use elitism to retain the best routes from the current population.\ndef breedPopulation(matingpool, eliteSize):\n    children = []\n    length = len(matingpool) - eliteSize\n    pool = random.sample(matingpool, len(matingpool))\n\n    for i in range(0,eliteSize):\n        children.append(matingpool[i])\n    \n    for i in range(0, length):\n        child = breed(pool[i], pool[len(matingpool)-i-1])\n        children.append(child)\n    return children",
      "execution_count": 11,
      "outputs": []
    },
    {
      "metadata": {
        "trusted": true
      },
      "cell_type": "code",
      "source": "# Chromosome mutation of swap operation.\ndef mutate(individual, mutationRate):\n    for swapped in range(len(individual)):\n        if(random.random() < mutationRate):\n            swapWith = int(random.random() * len(individual))\n            \n            city1 = individual[swapped]\n            city2 = individual[swapWith]\n            \n            individual[swapped] = city2\n            individual[swapWith] = city1\n    return individual",
      "execution_count": 12,
      "outputs": []
    },
    {
      "metadata": {
        "trusted": true
      },
      "cell_type": "code",
      "source": "#extending the mutate function to run through the new population.\ndef mutatePopulation(population, mutationRate):\n    mutatedPop = []\n    \n    for ind in range(0, len(population)):\n        mutatedInd = mutate(population[ind], mutationRate)\n        mutatedPop.append(mutatedInd)\n    return mutatedPop",
      "execution_count": 13,
      "outputs": []
    },
    {
      "metadata": {
        "trusted": true
      },
      "cell_type": "code",
      "source": "# Creating nextGen by repeating the above functions.\ndef nextGeneration(currentGen, eliteSize, mutationRate):\n    popRanked = rankRoutes(currentGen)\n    selectionResults = selection(popRanked, eliteSize)\n    matingpool = matingPool(currentGen, selectionResults)\n    children = breedPopulation(matingpool, eliteSize)\n    nextGeneration = mutatePopulation(children, mutationRate)\n    return nextGeneration",
      "execution_count": 14,
      "outputs": []
    },
    {
      "metadata": {
        "trusted": true
      },
      "cell_type": "code",
      "source": "# Evolution\ndef geneticAlgorithm(population, popSize, eliteSize, mutationRate, generations):\n    print(\"Intial Coordinates or points:\",population)\n    pop = initialPopulation(popSize, population)\n    print(\"Initial distance: \" + str(1 / rankRoutes(pop)[0][1]))\n    \n    for i in range(0, generations):\n        pop = nextGeneration(pop, eliteSize, mutationRate)\n    \n    print(\"Final distance: \" + str(1 / rankRoutes(pop)[0][1]))\n    bestRouteIndex = rankRoutes(pop)[0][0]\n    bestRoute = pop[bestRouteIndex]\n    return bestRoute",
      "execution_count": 15,
      "outputs": []
    },
    {
      "metadata": {
        "trusted": true
      },
      "cell_type": "code",
      "source": "# Creating a list of cities to travel between.\ncityList = []\n\nfor i in range(0,25):\n    cityList.append(City(x=int(random.random() * 200), y=int(random.random() * 200)))",
      "execution_count": 16,
      "outputs": []
    },
    {
      "metadata": {
        "trusted": true
      },
      "cell_type": "code",
      "source": "cityList",
      "execution_count": 17,
      "outputs": [
        {
          "output_type": "execute_result",
          "execution_count": 17,
          "data": {
            "text/plain": "[(134,151),\n (57,154),\n (165,51),\n (190,75),\n (174,107),\n (79,181),\n (175,115),\n (130,179),\n (26,100),\n (117,66),\n (5,59),\n (195,164),\n (75,166),\n (24,159),\n (66,23),\n (4,8),\n (148,59),\n (15,52),\n (34,80),\n (28,94),\n (169,124),\n (34,141),\n (186,46),\n (179,115),\n (137,94)]"
          },
          "metadata": {}
        }
      ]
    },
    {
      "metadata": {
        "trusted": true
      },
      "cell_type": "code",
      "source": "# Plotting the GA(Genetic Algorithm)\ndef geneticAlgorithmPlot(population, popSize, eliteSize, mutationRate, generations):\n    pop = initialPopulation(popSize, population)\n    progress = []\n    progress.append(1 / rankRoutes(pop)[0][1])\n    \n    for i in range(0, generations):\n        pop = nextGeneration(pop, eliteSize, mutationRate)\n        progress.append(1 / rankRoutes(pop)[0][1])\n    \n    plt.plot(progress)\n    plt.ylabel('Distance')\n    plt.xlabel('Generation')\n    plt.show()\n    \n    '''\n    abc = []\n    abc.append(rankRoutes(pop)[0][0])\n    for i in range(0,25):\n        rankRoutes(pop)[0][1]\n        abc.append(rankRoutes(pop)[0][1])\n    plt.plot(abc)\n    plt.ylabel(\"y axis\")\n    plt.xlabel(\"x axis\")\n    plt.show()\n    '''",
      "execution_count": 18,
      "outputs": []
    },
    {
      "metadata": {
        "trusted": true
      },
      "cell_type": "code",
      "source": "#Applying GA\ngeneticAlgorithm(population=cityList, popSize=100, eliteSize=20, mutationRate=0.01, generations=500)",
      "execution_count": 19,
      "outputs": [
        {
          "output_type": "stream",
          "text": "Intial Coordinates or points: [(134,151), (57,154), (165,51), (190,75), (174,107), (79,181), (175,115), (130,179), (26,100), (117,66), (5,59), (195,164), (75,166), (24,159), (66,23), (4,8), (148,59), (15,52), (34,80), (28,94), (169,124), (34,141), (186,46), (179,115), (137,94)]\nInitial distance: 2002.257862049108\nFinal distance: 769.7582700039484\n",
          "name": "stdout"
        },
        {
          "output_type": "execute_result",
          "execution_count": 19,
          "data": {
            "text/plain": "[(195,164),\n (134,151),\n (130,179),\n (79,181),\n (75,166),\n (57,154),\n (24,159),\n (34,141),\n (26,100),\n (28,94),\n (34,80),\n (5,59),\n (15,52),\n (4,8),\n (66,23),\n (117,66),\n (137,94),\n (148,59),\n (165,51),\n (186,46),\n (190,75),\n (174,107),\n (175,115),\n (179,115),\n (169,124)]"
          },
          "metadata": {}
        }
      ]
    },
    {
      "metadata": {
        "trusted": true
      },
      "cell_type": "code",
      "source": "geneticAlgorithmPlot(population=cityList, popSize=100, eliteSize=20, mutationRate=0.01, generations=500)",
      "execution_count": 20,
      "outputs": [
        {
          "output_type": "display_data",
          "data": {
            "image/png": "[encoded data removed]",
            "text/plain": "<Figure size 432x288 with 1 Axes>"
          },
          "metadata": {
            "needs_background": "light"
          }
        }
      ]
    }
  ],
  "metadata": {
    "kernelspec": {
      "name": "python36",
      "display_name": "Python 3.6",
      "language": "python"
    },
    "language_info": {
      "mimetype": "text/x-python",
      "nbconvert_exporter": "python",
      "name": "python",
      "pygments_lexer": "ipython3",
      "version": "3.6.6",
      "file_extension": ".py",
      "codemirror_mode": {
        "version": 3,
        "name": "ipython"
      }
    }
  },
  "nbformat": 4,
  "nbformat_minor": 2
}